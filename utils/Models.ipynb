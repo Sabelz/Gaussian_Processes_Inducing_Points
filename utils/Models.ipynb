{
  "nbformat": 4,
  "nbformat_minor": 0,
  "metadata": {
    "colab": {
      "provenance": [],
      "authorship_tag": "ABX9TyPYH8uom6LJkKxuyWBSyisC",
      "include_colab_link": true
    },
    "kernelspec": {
      "name": "python3",
      "display_name": "Python 3"
    },
    "language_info": {
      "name": "python"
    }
  },
  "cells": [
    {
      "cell_type": "markdown",
      "metadata": {
        "id": "view-in-github",
        "colab_type": "text"
      },
      "source": [
        "<a href=\"https://colab.research.google.com/github/Sabelz/Gaussian_Processes_Inducing_Points/blob/main/utils/Models.ipynb\" target=\"_parent\"><img src=\"https://colab.research.google.com/assets/colab-badge.svg\" alt=\"Open In Colab\"/></a>"
      ]
    },
    {
      "cell_type": "markdown",
      "source": [
        "# The basic structure of all Gaussian process models"
      ],
      "metadata": {
        "id": "OpUqiOCz_SHA"
      }
    },
    {
      "cell_type": "markdown",
      "source": [
        "# Imports"
      ],
      "metadata": {
        "id": "iL1egezQ_jD2"
      }
    },
    {
      "cell_type": "code",
      "source": [
        "from google.colab import drive\n",
        "drive.mount('/content/drive')\n",
        "%cd /content/drive/MyDrive/Master_Thesis_Alexander/\n",
        "!git config --global user.email \"alexander.sabelstrom.1040@student.uu.se\"\n",
        "!git config --global user.name \"Sabelz\"\n",
        "\n",
        "import numpy as np\n",
        "import matplotlib.pyplot as plt\n",
        "import torch\n",
        "!pip install gpytorch\n",
        "import gpytorch\n",
        "print(\"----------------------------------------------------------\")\n",
        "print(\"ALL MODELS: \")"
      ],
      "metadata": {
        "colab": {
          "base_uri": "https://localhost:8080/"
        },
        "id": "E12g85x3_kxw",
        "outputId": "4af0abdf-8d11-4616-8217-a61933dc2794"
      },
      "execution_count": 7,
      "outputs": [
        {
          "output_type": "stream",
          "name": "stdout",
          "text": [
            "Drive already mounted at /content/drive; to attempt to forcibly remount, call drive.mount(\"/content/drive\", force_remount=True).\n",
            "/content/drive/MyDrive/Master_Thesis_Alexander\n",
            "Requirement already satisfied: gpytorch in /usr/local/lib/python3.10/dist-packages (1.11)\n",
            "Requirement already satisfied: scikit-learn in /usr/local/lib/python3.10/dist-packages (from gpytorch) (1.2.2)\n",
            "Requirement already satisfied: linear-operator>=0.5.0 in /usr/local/lib/python3.10/dist-packages (from gpytorch) (0.5.2)\n",
            "Requirement already satisfied: torch>=1.11 in /usr/local/lib/python3.10/dist-packages (from linear-operator>=0.5.0->gpytorch) (2.1.0+cu121)\n",
            "Requirement already satisfied: scipy in /usr/local/lib/python3.10/dist-packages (from linear-operator>=0.5.0->gpytorch) (1.11.4)\n",
            "Requirement already satisfied: jaxtyping>=0.2.9 in /usr/local/lib/python3.10/dist-packages (from linear-operator>=0.5.0->gpytorch) (0.2.25)\n",
            "Requirement already satisfied: typeguard~=2.13.3 in /usr/local/lib/python3.10/dist-packages (from linear-operator>=0.5.0->gpytorch) (2.13.3)\n",
            "Requirement already satisfied: numpy>=1.17.3 in /usr/local/lib/python3.10/dist-packages (from scikit-learn->gpytorch) (1.25.2)\n",
            "Requirement already satisfied: joblib>=1.1.1 in /usr/local/lib/python3.10/dist-packages (from scikit-learn->gpytorch) (1.3.2)\n",
            "Requirement already satisfied: threadpoolctl>=2.0.0 in /usr/local/lib/python3.10/dist-packages (from scikit-learn->gpytorch) (3.2.0)\n",
            "Requirement already satisfied: typing-extensions>=3.7.4.1 in /usr/local/lib/python3.10/dist-packages (from jaxtyping>=0.2.9->linear-operator>=0.5.0->gpytorch) (4.9.0)\n",
            "Requirement already satisfied: filelock in /usr/local/lib/python3.10/dist-packages (from torch>=1.11->linear-operator>=0.5.0->gpytorch) (3.13.1)\n",
            "Requirement already satisfied: sympy in /usr/local/lib/python3.10/dist-packages (from torch>=1.11->linear-operator>=0.5.0->gpytorch) (1.12)\n",
            "Requirement already satisfied: networkx in /usr/local/lib/python3.10/dist-packages (from torch>=1.11->linear-operator>=0.5.0->gpytorch) (3.2.1)\n",
            "Requirement already satisfied: jinja2 in /usr/local/lib/python3.10/dist-packages (from torch>=1.11->linear-operator>=0.5.0->gpytorch) (3.1.3)\n",
            "Requirement already satisfied: fsspec in /usr/local/lib/python3.10/dist-packages (from torch>=1.11->linear-operator>=0.5.0->gpytorch) (2023.6.0)\n",
            "Requirement already satisfied: triton==2.1.0 in /usr/local/lib/python3.10/dist-packages (from torch>=1.11->linear-operator>=0.5.0->gpytorch) (2.1.0)\n",
            "Requirement already satisfied: MarkupSafe>=2.0 in /usr/local/lib/python3.10/dist-packages (from jinja2->torch>=1.11->linear-operator>=0.5.0->gpytorch) (2.1.5)\n",
            "Requirement already satisfied: mpmath>=0.19 in /usr/local/lib/python3.10/dist-packages (from sympy->torch>=1.11->linear-operator>=0.5.0->gpytorch) (1.3.0)\n",
            "----------------------------------------------------------\n",
            "ALL MODELS: \n"
          ]
        }
      ]
    },
    {
      "cell_type": "markdown",
      "source": [
        "# Structured Kernel Interpollation (SKI/KISS-GP)   \n",
        "https://docs.gpytorch.ai/en/latest/examples/02_Scalable_Exact_GPs/KISSGP_Regression.html"
      ],
      "metadata": {
        "id": "uldGdSbn_e56"
      }
    },
    {
      "cell_type": "markdown",
      "source": [
        "## 1D-4D data"
      ],
      "metadata": {
        "id": "L7k92SXEBIfg"
      }
    },
    {
      "cell_type": "code",
      "source": [
        "class KISSGP(gpytorch.models.ExactGP):\n",
        "    def __init__(self, train_x, train_y, likelihood, kernel):\n",
        "        super(KISSGP, self).__init__(train_x, train_y, likelihood)\n",
        "\n",
        "        # SKI requires a grid size hyperparameter. This util can help with that.\n",
        "        grid_size = gpytorch.utils.grid.choose_grid_size(train_x)\n",
        "\n",
        "        self.mean_module = gpytorch.means.ConstantMean()\n",
        "        self.covar_module = gpytorch.kernels.ScaleKernel(\n",
        "            gpytorch.kernels.GridInterpolationKernel(\n",
        "                kernel, grid_size=grid_size, num_dims=train_x.shape[1]# Get dimension of training data\n",
        "            )\n",
        "        )\n",
        "\n",
        "    def forward(self, x):\n",
        "        mean_x = self.mean_module(x)\n",
        "        covar_x = self.covar_module(x)\n",
        "        return gpytorch.distributions.MultivariateNormal(mean_x, covar_x)\n",
        "print(\"KISS-GP For 1D-4D data:\")\n",
        "print(\"Example:\")\n",
        "print(\"   likelihood = gpytorch.likelihoods.GaussianLikelihood()\")\n",
        "print(\"   kernel = gpytorch.kernels.RBFKernel()\")\n",
        "print(\"   model = KISSGP(train_x, train_y, likelihood, kernel)\")"
      ],
      "metadata": {
        "colab": {
          "base_uri": "https://localhost:8080/"
        },
        "id": "0Uydu_wp_fgV",
        "outputId": "dece13dc-07a3-4405-87a0-0f4b938a9ca9"
      },
      "execution_count": 12,
      "outputs": [
        {
          "output_type": "stream",
          "name": "stdout",
          "text": [
            "KISS-GP For 1D-4D data:\n",
            "Example:\n",
            "   likelihood = gpytorch.likelihoods.GaussianLikelihood()\n",
            "   kernel = gpytorch.kernels.RBFKernel()\n",
            "   model = KISSGP(train_x, train_y, likelihood, kernel)\n"
          ]
        }
      ]
    },
    {
      "cell_type": "markdown",
      "source": [
        "## For higher dimensional data"
      ],
      "metadata": {
        "id": "_dQzJvNGG7O_"
      }
    },
    {
      "cell_type": "code",
      "source": [
        "class KISSGP_NDim(gpytorch.models.ExactGP):\n",
        "    def __init__(self, train_x, train_y, likelihood, kernel):\n",
        "        super(KISSGP_NDim, self).__init__(train_x, train_y, likelihood)\n",
        "\n",
        "        # SKI requires a grid size hyperparameter. This util can help with that\n",
        "        # We're setting Kronecker structure to False because we're using an additive structure decomposition\n",
        "        grid_size = gpytorch.utils.grid.choose_grid_size(train_x, kronecker_structure=False)\n",
        "\n",
        "        self.mean_module = gpytorch.means.ConstantMean()\n",
        "        self.covar_module = gpytorch.kernels.AdditiveStructureKernel(\n",
        "            gpytorch.kernels.ScaleKernel(\n",
        "                gpytorch.kernels.GridInterpolationKernel(\n",
        "                    kernel, grid_size=128, num_dims=1\n",
        "                )\n",
        "            ), num_dims=train_x.shape[1]# Get dimension of training data\n",
        "        )\n",
        "\n",
        "    def forward(self, x):\n",
        "        mean_x = self.mean_module(x)\n",
        "        covar_x = self.covar_module(x)\n",
        "        return gpytorch.distributions.MultivariateNormal(mean_x, covar_x)\n",
        "\n",
        "\n",
        "print(\"KISS-GP For higher dimensional data:\")\n",
        "print(\"Example:\")\n",
        "print(\"   likelihood = gpytorch.likelihoods.GaussianLikelihood()\")\n",
        "print(\"   kernel = gpytorch.kernels.RBFKernel()\")\n",
        "print(\"   model = KISSGP_NDim(train_x, train_y, likelihood, kernel)\")"
      ],
      "metadata": {
        "colab": {
          "base_uri": "https://localhost:8080/"
        },
        "id": "H1uwjre1HBhS",
        "outputId": "50424e12-3671-4946-940f-06ed48e1ed87"
      },
      "execution_count": 13,
      "outputs": [
        {
          "output_type": "stream",
          "name": "stdout",
          "text": [
            "KISS-GP For higher dimensional data:\n",
            "Example:\n",
            "   likelihood = gpytorch.likelihoods.GaussianLikelihood()\n",
            "   kernel = gpytorch.kernels.RBFKernel()\n",
            "   model = KISSGP_NDim(train_x, train_y, likelihood, kernel)\n"
          ]
        }
      ]
    }
  ]
}